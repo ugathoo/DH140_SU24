{
 "cells": [
  {
   "cell_type": "markdown",
   "id": "e8b4c3b5",
   "metadata": {
    "nbsimplegrader": {
     "config_key": "markdown.view-only",
     "editable": false,
     "label": "Markdown: View-Only",
     "respondable": false,
     "response": null,
     "runnable": false,
     "type": "markdown"
    }
   },
   "source": [
    "# Assignment: Python Basics"
   ]
  },
  {
   "cell_type": "markdown",
   "id": "0327c786",
   "metadata": {
    "nbsimplegrader": {
     "config_key": "markdown.view-only",
     "editable": false,
     "label": "Markdown: View-Only",
     "respondable": false,
     "response": null,
     "runnable": false,
     "type": "markdown"
    }
   },
   "source": [
    "The following assignment is intended to help you practice (potentially completely new) Python skills.\n",
    "\n",
    "It's not intended to make you tear your hair out in consternation! If you want hints or guidance on the basics, please come to our first class prepared with questions.\n",
    "\n",
    "In the spaces below, you are welcome to add new code cells as you wish to help you craft your answers."
   ]
  },
  {
   "cell_type": "markdown",
   "id": "206ae631",
   "metadata": {
    "nbsimplegrader": {
     "config_key": "markdown.view-only",
     "editable": false,
     "label": "Markdown: View-Only",
     "respondable": false,
     "response": null,
     "runnable": false,
     "type": "markdown"
    }
   },
   "source": [
    "## Python exercises"
   ]
  },
  {
   "cell_type": "markdown",
   "id": "c4662958",
   "metadata": {
    "nbsimplegrader": {
     "config_key": "markdown.view-only",
     "editable": false,
     "label": "Markdown: View-Only",
     "respondable": false,
     "response": null,
     "runnable": false,
     "type": "markdown"
    }
   },
   "source": [
    "Carry out the following instructions in the code cells beneath each instruction."
   ]
  },
  {
   "cell_type": "markdown",
   "id": "820d476f",
   "metadata": {
    "nbsimplegrader": {
     "config_key": "markdown.view-only",
     "editable": false,
     "label": "Markdown: View-Only",
     "respondable": false,
     "response": null,
     "runnable": false,
     "type": "markdown"
    }
   },
   "source": [
    "Do a mathematical calculation that includes at least three of the following operators: `+`, `-`, `*`, `/`, and/or `%`."
   ]
  },
  {
   "cell_type": "code",
   "execution_count": 31,
   "id": "0dfb8677",
   "metadata": {
    "nbsimplegrader": {
     "config_key": "code.response",
     "editable": true,
     "label": "Response: Code",
     "respondable": true,
     "response": null,
     "runnable": true,
     "type": "code"
    }
   },
   "outputs": [
    {
     "name": "stdout",
     "output_type": "stream",
     "text": [
      "3\n"
     ]
    }
   ],
   "source": [
    "print(1 + 2 - 12 % 4)"
   ]
  },
  {
   "cell_type": "markdown",
   "id": "da529bd7",
   "metadata": {
    "nbsimplegrader": {
     "config_key": "markdown.view-only",
     "editable": false,
     "label": "Markdown: View-Only",
     "respondable": false,
     "response": null,
     "runnable": false,
     "type": "markdown"
    }
   },
   "source": [
    "Assign a number to the variable `a`"
   ]
  },
  {
   "cell_type": "code",
   "execution_count": 32,
   "id": "fcd2f994",
   "metadata": {
    "nbsimplegrader": {
     "config_key": "code.response",
     "editable": true,
     "label": "Response: Code",
     "respondable": true,
     "response": null,
     "runnable": true,
     "type": "code"
    }
   },
   "outputs": [],
   "source": [
    "a = 4"
   ]
  },
  {
   "cell_type": "markdown",
   "id": "88a251f2",
   "metadata": {
    "nbsimplegrader": {
     "config_key": "markdown.view-only",
     "editable": false,
     "label": "Markdown: View-Only",
     "respondable": false,
     "response": null,
     "runnable": false,
     "type": "markdown"
    }
   },
   "source": [
    "Use an `if` statement to print out \"a is even\" or \"a is odd\" depending on whether `a % 2` is true or false."
   ]
  },
  {
   "cell_type": "code",
   "execution_count": 33,
   "id": "7d3c2c74",
   "metadata": {
    "nbsimplegrader": {
     "config_key": "code.response",
     "editable": true,
     "label": "Response: Code",
     "respondable": true,
     "response": null,
     "runnable": true,
     "type": "code"
    }
   },
   "outputs": [
    {
     "name": "stdout",
     "output_type": "stream",
     "text": [
      "a is odd\n"
     ]
    }
   ],
   "source": [
    "if (a % 2) == True:\n",
    "  print(\"a is even\")\n",
    "else:\n",
    "  print(\"a is odd\")"
   ]
  },
  {
   "cell_type": "markdown",
   "id": "79c99999",
   "metadata": {
    "nbsimplegrader": {
     "config_key": "markdown.view-only",
     "editable": false,
     "label": "Markdown: View-Only",
     "respondable": false,
     "response": null,
     "runnable": false,
     "type": "markdown"
    }
   },
   "source": [
    "Assign `a` to be a Python list that consists of the numbers 1, 1, 2, 3, 5, 8, 13, 21, 34, 55, 89"
   ]
  },
  {
   "cell_type": "code",
   "execution_count": 34,
   "id": "0290dfff",
   "metadata": {
    "nbsimplegrader": {
     "config_key": "code.response",
     "editable": true,
     "label": "Response: Code",
     "respondable": true,
     "response": null,
     "runnable": true,
     "type": "code"
    }
   },
   "outputs": [],
   "source": [
    "a = [1, 1, 2, 3, 5, 8, 13, 21, 34, 55, 89]"
   ]
  },
  {
   "cell_type": "markdown",
   "id": "560fe59e",
   "metadata": {
    "nbsimplegrader": {
     "config_key": "markdown.view-only",
     "editable": false,
     "label": "Markdown: View-Only",
     "respondable": false,
     "response": null,
     "runnable": false,
     "type": "markdown"
    }
   },
   "source": [
    "Print all the elements of `a`"
   ]
  },
  {
   "cell_type": "code",
   "execution_count": 35,
   "id": "1250779f",
   "metadata": {
    "nbsimplegrader": {
     "config_key": "code.response",
     "editable": true,
     "label": "Response: Code",
     "respondable": true,
     "response": null,
     "runnable": true,
     "type": "code"
    }
   },
   "outputs": [
    {
     "name": "stdout",
     "output_type": "stream",
     "text": [
      "1\n",
      "1\n",
      "2\n",
      "3\n",
      "5\n",
      "8\n",
      "13\n",
      "21\n",
      "34\n",
      "55\n",
      "89\n"
     ]
    }
   ],
   "source": [
    "for i in a:\n",
    "  print(i)"
   ]
  },
  {
   "cell_type": "markdown",
   "id": "55f6f2f4",
   "metadata": {
    "nbsimplegrader": {
     "config_key": "markdown.view-only",
     "editable": false,
     "label": "Markdown: View-Only",
     "respondable": false,
     "response": null,
     "runnable": false,
     "type": "markdown"
    }
   },
   "source": [
    "Print the first element of `a` (where you get the first element by using index notation)"
   ]
  },
  {
   "cell_type": "code",
   "execution_count": 36,
   "id": "21803e34",
   "metadata": {
    "nbsimplegrader": {
     "config_key": "code.response",
     "editable": true,
     "label": "Response: Code",
     "respondable": true,
     "response": null,
     "runnable": true,
     "type": "code"
    }
   },
   "outputs": [
    {
     "name": "stdout",
     "output_type": "stream",
     "text": [
      "1\n"
     ]
    }
   ],
   "source": [
    "print(a[0])"
   ]
  },
  {
   "cell_type": "markdown",
   "id": "f870e7f5",
   "metadata": {
    "nbsimplegrader": {
     "config_key": "markdown.view-only",
     "editable": false,
     "label": "Markdown: View-Only",
     "respondable": false,
     "response": null,
     "runnable": false,
     "type": "markdown"
    }
   },
   "source": [
    "Print the fifth element at `a`"
   ]
  },
  {
   "cell_type": "code",
   "execution_count": 37,
   "id": "3962f2bd",
   "metadata": {
    "nbsimplegrader": {
     "config_key": "code.response",
     "editable": true,
     "label": "Response: Code",
     "respondable": true,
     "response": null,
     "runnable": true,
     "type": "code"
    }
   },
   "outputs": [
    {
     "name": "stdout",
     "output_type": "stream",
     "text": [
      "5\n"
     ]
    }
   ],
   "source": [
    "print(a[4])"
   ]
  },
  {
   "cell_type": "markdown",
   "id": "5258a1f0",
   "metadata": {
    "nbsimplegrader": {
     "config_key": "markdown.view-only",
     "editable": false,
     "label": "Markdown: View-Only",
     "respondable": false,
     "response": null,
     "runnable": false,
     "type": "markdown"
    }
   },
   "source": [
    "Print the last element of `a`"
   ]
  },
  {
   "cell_type": "code",
   "execution_count": 38,
   "id": "73dc6218",
   "metadata": {
    "nbsimplegrader": {
     "config_key": "code.response",
     "editable": true,
     "label": "Response: Code",
     "respondable": true,
     "response": null,
     "runnable": true,
     "type": "code"
    }
   },
   "outputs": [
    {
     "name": "stdout",
     "output_type": "stream",
     "text": [
      "89\n"
     ]
    }
   ],
   "source": [
    "print(a[-1])"
   ]
  },
  {
   "cell_type": "markdown",
   "id": "012ca097",
   "metadata": {
    "nbsimplegrader": {
     "config_key": "markdown.view-only",
     "editable": false,
     "label": "Markdown: View-Only",
     "respondable": false,
     "response": null,
     "runnable": false,
     "type": "markdown"
    }
   },
   "source": [
    "Use the `len()` method to output the length of `a`\n",
    "  * you may find it useful to look at https://python.readthedocs.io/en/stable/library/functions.html for documentation about `len()`"
   ]
  },
  {
   "cell_type": "code",
   "execution_count": 39,
   "id": "b467e030",
   "metadata": {
    "nbsimplegrader": {
     "config_key": "code.response",
     "editable": true,
     "label": "Response: Code",
     "respondable": true,
     "response": null,
     "runnable": true,
     "type": "code"
    }
   },
   "outputs": [
    {
     "name": "stdout",
     "output_type": "stream",
     "text": [
      "11\n"
     ]
    }
   ],
   "source": [
    "print(len(a))"
   ]
  },
  {
   "cell_type": "markdown",
   "id": "457c66e4",
   "metadata": {
    "nbsimplegrader": {
     "config_key": "markdown.view-only",
     "editable": false,
     "label": "Markdown: View-Only",
     "respondable": false,
     "response": null,
     "runnable": false,
     "type": "markdown"
    }
   },
   "source": [
    "Print all the elements of `a` less than 8"
   ]
  },
  {
   "cell_type": "code",
   "execution_count": 40,
   "id": "13a57a53",
   "metadata": {
    "nbsimplegrader": {
     "config_key": "code.response",
     "editable": true,
     "label": "Response: Code",
     "respondable": true,
     "response": null,
     "runnable": true,
     "type": "code"
    }
   },
   "outputs": [
    {
     "name": "stdout",
     "output_type": "stream",
     "text": [
      "1\n",
      "1\n",
      "2\n",
      "3\n",
      "5\n"
     ]
    }
   ],
   "source": [
    "for i in a:\n",
    "  if i < 8:\n",
    "    print(i)"
   ]
  },
  {
   "cell_type": "markdown",
   "id": "0ca93e51",
   "metadata": {
    "nbsimplegrader": {
     "config_key": "markdown.view-only",
     "editable": false,
     "label": "Markdown: View-Only",
     "respondable": false,
     "response": null,
     "runnable": false,
     "type": "markdown"
    }
   },
   "source": [
    "Print out the elements of `a` in reverse order\n",
    "  * look at https://python-reference.readthedocs.io/en/latest/docs/list, specifically `reverse`"
   ]
  },
  {
   "cell_type": "code",
   "execution_count": 41,
   "id": "4fea2769",
   "metadata": {
    "nbsimplegrader": {
     "config_key": "code.response",
     "editable": true,
     "label": "Response: Code",
     "respondable": true,
     "response": null,
     "runnable": true,
     "type": "code"
    }
   },
   "outputs": [
    {
     "name": "stdout",
     "output_type": "stream",
     "text": [
      "89\n",
      "55\n",
      "34\n",
      "21\n",
      "13\n",
      "8\n",
      "5\n",
      "3\n",
      "2\n",
      "1\n",
      "1\n"
     ]
    }
   ],
   "source": [
    "for i in reversed(a):\n",
    "  print(i)"
   ]
  },
  {
   "cell_type": "markdown",
   "id": "979e9401",
   "metadata": {
    "nbsimplegrader": {
     "config_key": "markdown.view-only",
     "editable": false,
     "label": "Markdown: View-Only",
     "respondable": false,
     "response": null,
     "runnable": false,
     "type": "markdown"
    }
   },
   "source": [
    "Append the next fibonacci number to `a` and print out the new list\n",
    "  * elements in the fibonacci sequence are equal to the sum of the previous two elements\n",
    "  * look again at the docs, this time for `append`"
   ]
  },
  {
   "cell_type": "code",
   "execution_count": 42,
   "id": "93b41dad",
   "metadata": {
    "nbsimplegrader": {
     "config_key": "code.response",
     "editable": true,
     "label": "Response: Code",
     "respondable": true,
     "response": null,
     "runnable": true,
     "type": "code"
    }
   },
   "outputs": [
    {
     "name": "stdout",
     "output_type": "stream",
     "text": [
      "1\n",
      "1\n",
      "2\n",
      "3\n",
      "5\n",
      "8\n",
      "13\n",
      "21\n",
      "34\n",
      "55\n",
      "89\n",
      "144\n"
     ]
    }
   ],
   "source": [
    "app = a[-1] + a[-2]\n",
    "a.append(app)\n",
    "for i in a:\n",
    "  print(i)"
   ]
  },
  {
   "cell_type": "markdown",
   "id": "c0c687c9",
   "metadata": {
    "nbsimplegrader": {
     "config_key": "markdown.view-only",
     "editable": false,
     "label": "Markdown: View-Only",
     "respondable": false,
     "response": null,
     "runnable": false,
     "type": "markdown"
    }
   },
   "source": [
    "Assign `a` and `b` to be lists of numbers as follows:\n",
    "\n",
    "`a = [1, 1, 2, 3, 5, 8, 13, 21, 34, 55, 89]`\n",
    "\n",
    "`b = [1, 2, 3, 4, 5, 6, 7, 8, 9, 10, 11, 12, 13]`\n",
    "\n",
    "Then use Python to print out the intersection of `a` and `b`, i.e. those elements that are contained in both `a` and `b`."
   ]
  },
  {
   "cell_type": "code",
   "execution_count": 43,
   "id": "5a0a2a48",
   "metadata": {
    "nbsimplegrader": {
     "config_key": "code.response",
     "editable": true,
     "label": "Response: Code",
     "respondable": true,
     "response": null,
     "runnable": true,
     "type": "code"
    }
   },
   "outputs": [
    {
     "name": "stdout",
     "output_type": "stream",
     "text": [
      "[1, 2, 3, 5, 8, 13]\n"
     ]
    }
   ],
   "source": [
    "a = [1, 1, 2, 3, 5, 8, 13, 21, 34, 55, 89]\n",
    "\n",
    "b = [1, 2, 3, 4, 5, 6, 7, 8, 9, 10, 11, 12, 13]\n",
    "\n",
    "c = [value for value in a if value in b]\n",
    "\n",
    "print(list(set(c)))"
   ]
  },
  {
   "cell_type": "markdown",
   "id": "10ec278a",
   "metadata": {
    "nbsimplegrader": {
     "config_key": "markdown.view-only",
     "editable": false,
     "label": "Markdown: View-Only",
     "respondable": false,
     "response": null,
     "runnable": false,
     "type": "markdown"
    }
   },
   "source": [
    "Set:\n",
    "\n",
    "`a = {'January': 7, 'February': 8, 'March': 5, 'April': 5}`\n",
    "\n",
    "Then add a new item to the dictionary and print the message \"\\<key> has \\<value> letters\" for every \\<key>:\\<value> pair that is in the dictionary.  As an example, if your dictionary was `{'x': 10}` then you would print `x has 10 letters`"
   ]
  },
  {
   "cell_type": "code",
   "execution_count": 44,
   "id": "59d49038",
   "metadata": {
    "nbsimplegrader": {
     "config_key": "code.response",
     "editable": true,
     "label": "Response: Code",
     "respondable": true,
     "response": null,
     "runnable": true,
     "type": "code"
    }
   },
   "outputs": [
    {
     "name": "stdout",
     "output_type": "stream",
     "text": [
      "January has 7 letters.\n",
      "February has 8 letters.\n",
      "March has 5 letters.\n",
      "April has 5 letters.\n",
      "May has 3 letters.\n"
     ]
    }
   ],
   "source": [
    "a = {'January': 7, 'February': 8, 'March': 5, 'April': 5}\n",
    "\n",
    "a['May'] = 3\n",
    "\n",
    "for i in a.keys():\n",
    "  print(i + \" has \" + str(a[i]) + \" letters.\")"
   ]
  },
  {
   "cell_type": "markdown",
   "id": "b4f3ae3d",
   "metadata": {
    "nbsimplegrader": {
     "config_key": "markdown.view-only",
     "editable": false,
     "label": "Markdown: View-Only",
     "respondable": false,
     "response": null,
     "runnable": false,
     "type": "markdown"
    }
   },
   "source": [
    "Write a Python function that takes as input a list of numbers and prints a new Python list containing the first and last elements of the given list."
   ]
  },
  {
   "cell_type": "code",
   "execution_count": 45,
   "id": "94a3397e",
   "metadata": {
    "nbsimplegrader": {
     "config_key": "code.response",
     "editable": true,
     "label": "Response: Code",
     "respondable": true,
     "response": null,
     "runnable": true,
     "type": "code"
    }
   },
   "outputs": [],
   "source": [
    "def newList(a):\n",
    "  return [a[0], a[-1]]"
   ]
  },
  {
   "cell_type": "markdown",
   "id": "ded5e5da",
   "metadata": {
    "nbsimplegrader": {
     "config_key": "markdown.view-only",
     "editable": false,
     "label": "Markdown: View-Only",
     "respondable": false,
     "response": null,
     "runnable": false,
     "type": "markdown"
    }
   },
   "source": [
    "Execute your Python function with several examples."
   ]
  },
  {
   "cell_type": "code",
   "execution_count": 46,
   "id": "24495695",
   "metadata": {
    "nbsimplegrader": {
     "config_key": "code.response",
     "editable": true,
     "label": "Response: Code",
     "respondable": true,
     "response": null,
     "runnable": true,
     "type": "code"
    }
   },
   "outputs": [
    {
     "name": "stdout",
     "output_type": "stream",
     "text": [
      "[1, 89]\n",
      "[1, 13]\n",
      "[1, 2]\n",
      "[0, 0]\n",
      "[12345678, 37]\n"
     ]
    }
   ],
   "source": [
    "a = [1, 1, 2, 3, 5, 8, 13, 21, 34, 55, 89]\n",
    "b = [1, 2, 3, 4, 5, 6, 7, 8, 9, 10, 11, 12, 13]\n",
    "c = [1, 2]\n",
    "d = [0]\n",
    "e = [12345678, 234567890, 1234567890, 123456, 234536478596, 8429632853710, 37]\n",
    "f = [a, b, c, d, e]\n",
    "for listt in f:\n",
    "  print(newList(listt))"
   ]
  },
  {
   "cell_type": "code",
   "execution_count": 47,
   "id": "a34312cf",
   "metadata": {
    "nbsimplegrader": {
     "config_key": "code.run-only",
     "editable": false,
     "label": "Code: Run-Only",
     "respondable": false,
     "response": null,
     "runnable": true,
     "type": "code"
    }
   },
   "outputs": [
    {
     "name": "stdout",
     "output_type": "stream",
     "text": [
      "{'A': 1, 'computer': 1, 'program': 1, 'is': 1, 'said': 1, 'to': 2, 'learn': 1, 'from': 1, 'experience': 2, 'E': 1, 'with': 2, 'respect': 1, 'some': 1, 'class': 1, 'of': 1, 'tasks': 2, 'T': 2, 'and': 1, 'performance': 2, 'measure': 1, 'P': 2, 'if': 1, 'its': 1, 'at': 1, 'in': 1, 'as': 1, 'measured': 1, 'by': 1, 'improves': 1, 'E.': 1}\n"
     ]
    }
   ],
   "source": [
    "# Execute this cell and look at its output\n",
    "\n",
    "ml_sentence = '''\n",
    "A computer program is said to learn \n",
    "from experience E with respect to some class of tasks T \n",
    "and performance measure P if its performance at tasks in T \n",
    "as measured by P improves with experience E.\n",
    "'''\n",
    "\n",
    "ml_sentence_words = {}\n",
    "for i in ml_sentence.split():\n",
    "    if i in ml_sentence_words.keys():\n",
    "        ml_sentence_words[i] += 1\n",
    "    else:\n",
    "        ml_sentence_words[i] = 1\n",
    "print(ml_sentence_words)"
   ]
  },
  {
   "cell_type": "markdown",
   "id": "4d522ed6",
   "metadata": {
    "nbsimplegrader": {
     "config_key": "markdown.response",
     "editable": true,
     "label": "Response: Markdown",
     "respondable": true,
     "response": null,
     "runnable": true,
     "type": "markdown"
    }
   },
   "source": [
    "* In the cell above, what does `ml_sentence.split()` do?\n",
    "It splits the sentence at every white space. \n",
    "* What keys are added to `ml_sentence_words`?\n",
    "Every word in the sentence is added as a key.\n",
    "* What values are added to `ml_sentence_words`?\n",
    "Values are added starting at 1 to each key and incremented if that key appears more than once in the sentence. "
   ]
  },
  {
   "cell_type": "code",
   "execution_count": 48,
   "id": "be52db23",
   "metadata": {
    "nbsimplegrader": {
     "config_key": "code.edit-and-run",
     "editable": true,
     "label": "Code: Edit-and-Run",
     "respondable": false,
     "response": null,
     "runnable": true,
     "type": "code"
    }
   },
   "outputs": [],
   "source": [
    "# This cell is for testing code\n"
   ]
  },
  {
   "cell_type": "markdown",
   "id": "35e26a57",
   "metadata": {
    "nbsimplegrader": {
     "config_key": "markdown.view-only",
     "editable": false,
     "label": "Markdown: View-Only",
     "respondable": false,
     "response": null,
     "runnable": false,
     "type": "markdown"
    }
   },
   "source": [
    "Time to roll up our sleeves and make a similar dictionary for all the words in Macbeth.\n",
    "\n",
    "Execute the following cell and look at its output."
   ]
  },
  {
   "cell_type": "code",
   "execution_count": 49,
   "id": "14334bc7",
   "metadata": {
    "nbsimplegrader": {
     "config_key": "code.run-only",
     "editable": false,
     "label": "Code: Run-Only",
     "respondable": false,
     "response": null,
     "runnable": true,
     "type": "code"
    }
   },
   "outputs": [
    {
     "name": "stderr",
     "output_type": "stream",
     "text": [
      "[nltk_data] Downloading package punkt to /home/jovyan/nltk_data...\n",
      "[nltk_data]   Package punkt is already up-to-date!\n"
     ]
    },
    {
     "name": "stdout",
     "output_type": "stream",
     "text": [
      "['ï', '»', '¿', '*', '*', '*', 'start', 'of', 'the', 'project']\n"
     ]
    }
   ],
   "source": [
    "# Here we import libraries that can grab data from the web (via requests)\n",
    "# and form a list of words using NLTK.\n",
    "import requests\n",
    "from nltk.tokenize import word_tokenize\n",
    "import nltk\n",
    "nltk.download('punkt')\n",
    "\n",
    "# Here we get the text of Macbeth from Project Gutenberg (https://www.gutenberg.org/) \n",
    "# and \"tokenize\" the text (split it up into words)\n",
    "target_url = \"https://www.gutenberg.org/files/1533/1533-0.txt\"\n",
    "response = requests.get(target_url)\n",
    "text_string = response.text\n",
    "text_string = text_string.lower()\n",
    "text_words = word_tokenize(text_string)\n",
    "\n",
    "# Here we print the first 10 words\n",
    "print(text_words[0:10])"
   ]
  },
  {
   "cell_type": "markdown",
   "id": "7c546232",
   "metadata": {
    "nbsimplegrader": {
     "config_key": "markdown.view-only",
     "editable": false,
     "label": "Markdown: View-Only",
     "respondable": false,
     "response": null,
     "runnable": false,
     "type": "markdown"
    }
   },
   "source": [
    "`text_words` is now a Python list whose elements consist of the words contained in Macbeth.  The command `print(text_words[0:10])` prints out the first 10 \"words\" in the list.\n",
    "\n",
    "Make a Python dictionary whose keys are the unique words in `text_words`, with the corresponding values for each key being the word counts.\n",
    "\n",
    "* The example above with `ml_sentence_words` can be useful when figuring out one way to do this."
   ]
  },
  {
   "cell_type": "code",
   "execution_count": 50,
   "id": "0e1ce1a0",
   "metadata": {
    "nbsimplegrader": {
     "config_key": "code.response",
     "editable": true,
     "label": "Response: Code",
     "respondable": true,
     "response": null,
     "runnable": true,
     "type": "code"
    }
   },
   "outputs": [],
   "source": [
    "unique_words = {}\n",
    "for word in text_words:\n",
    "  if word not in unique_words.keys():\n",
    "    unique_words[word] = 0\n",
    "  unique_words[word] += 1"
   ]
  },
  {
   "cell_type": "markdown",
   "id": "f6819668",
   "metadata": {
    "nbsimplegrader": {
     "config_key": "markdown.view-only",
     "editable": false,
     "label": "Markdown: View-Only",
     "respondable": false,
     "response": null,
     "runnable": false,
     "type": "markdown"
    }
   },
   "source": [
    "Check out some entries in the dictionary. At the very least, print out the counts for the words 'macbeth', 'sword', and 'thy'"
   ]
  },
  {
   "cell_type": "code",
   "execution_count": 51,
   "id": "5f846e6a",
   "metadata": {
    "nbsimplegrader": {
     "config_key": "code.response",
     "editable": true,
     "label": "Response: Code",
     "respondable": true,
     "response": null,
     "runnable": true,
     "type": "code"
    }
   },
   "outputs": [
    {
     "name": "stdout",
     "output_type": "stream",
     "text": [
      "284\n",
      "11\n",
      "52\n"
     ]
    }
   ],
   "source": [
    "print(unique_words[\"macbeth\"])\n",
    "print(unique_words['sword'])\n",
    "print(unique_words['thy'])"
   ]
  },
  {
   "cell_type": "markdown",
   "id": "109f2afa",
   "metadata": {
    "nbsimplegrader": {
     "config_key": "markdown.view-only",
     "editable": false,
     "label": "Markdown: View-Only",
     "respondable": false,
     "response": null,
     "runnable": false,
     "type": "markdown"
    }
   },
   "source": [
    "## Submit\n",
    "\n",
    "Submit this assignment by:\n",
    "\n",
    "* Saving your work\n",
    "* Clicking on the Submit button at the top"
   ]
  }
 ],
 "metadata": {
  "kernelspec": {
   "display_name": "Python 3 (ipykernel)",
   "language": "python",
   "name": "python3"
  },
  "language_info": {
   "codemirror_mode": {
    "name": "ipython",
    "version": 3
   },
   "file_extension": ".py",
   "mimetype": "text/x-python",
   "name": "python",
   "nbconvert_exporter": "python",
   "pygments_lexer": "ipython3",
   "version": "3.11.6"
  },
  "nbsimplegrader": {
   "is_published": true,
   "publish_config": {
    "classes": [
     "DH140_24Summer_bwinjum"
    ],
    "options": {
     "include_submit": true,
     "lock_notebook": false
    },
    "tools": []
   }
  }
 },
 "nbformat": 4,
 "nbformat_minor": 5
}
